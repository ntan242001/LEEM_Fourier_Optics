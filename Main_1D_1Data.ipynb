{
 "cells": [
  {
   "cell_type": "markdown",
   "id": "b44f5d61",
   "metadata": {},
   "source": [
    "# Intensity Profile for One Dimension Objects"
   ]
  },
  {
   "cell_type": "markdown",
   "id": "720b705f",
   "metadata": {},
   "source": [
    "This programme enables users to plot the intensity profile of different objects by different types of LEEM. The first part (Preamble) contains three functions that call the LEEM constants, defocus, and the object type. The second part (Main) is where the intensity array is calculated. The last part (Analyse) analyses the result by finding the resolution $R$, plotting the intensity profile and saving the result to a csv file. First, the necessary libraries are called:"
   ]
  },
  {
   "cell_type": "code",
   "execution_count": 1,
   "id": "aaac7dd0",
   "metadata": {},
   "outputs": [],
   "source": [
    "import numpy as np\n",
    "import matplotlib.pyplot as plt\n",
    "import time\n",
    "import csv\n",
    "import math"
   ]
  },
  {
   "cell_type": "markdown",
   "id": "7f3d2b70",
   "metadata": {},
   "source": [
    "## Preamble"
   ]
  },
  {
   "cell_type": "markdown",
   "id": "4cd73f3c",
   "metadata": {},
   "source": [
    "The function choose_LEEM_type() set the values of the energy $E$ at the objective lens, the energy at the sample, the aberration coefficients, the aperture angle, the illumination angle, the width of the electron emission energy distribution and the lateral magnification factor."
   ]
  },
  {
   "cell_type": "code",
   "execution_count": 3,
   "id": "d1ddb959",
   "metadata": {},
   "outputs": [],
   "source": [
    "def choose_LEEM_type(LEEM_type_str, aberration_corrected_bool = False):\n",
    "    global E, E_0, C_c, C_cc, C_3c, C_3, C_5, alpha_ap, alpha_ill, \\\n",
    "        delta_E, M_L, lamda, lamda_0, q_ill, q_ap, LEEM_type, aberration_corrected\n",
    "    LEEM_type = LEEM_type_str\n",
    "    aberration_corrected = aberration_corrected_bool\n",
    "    \n",
    "    if LEEM_type == \"IBM\":\n",
    "        if aberration_corrected == False:\n",
    "            E = 15010  # eV  Nominal Energy After Acceleration\n",
    "            E_0 = 10  # eV  Energy at the sample\n",
    "            \n",
    "            C_c = -0.075  # m  Second Rank Chromatic Aberration Coefficient\n",
    "            C_cc = 23.09 # m   Third Rank Chromatic Aberration Coefficient\n",
    "            C_3c = -59.37  # m   Forth Rank Chromatic Aberration Coefficient\n",
    "            \n",
    "            C_3 = 0.345  # m  Third Order Spherical Aberration Coefficient\n",
    "            C_5 = 39.4  # m  Fifth Order Spherical Aberration Coefficient\n",
    "            \n",
    "            alpha_ap = 2.34e-3  # rad Aperture angle\n",
    "            alpha_ill = 0.1e-3  # rad Illumination Divergence Angle\n",
    "            \n",
    "            delta_E = 0.25  # eV  Energy Spread\n",
    "            M_L = 0.653  # Lateral Magnification\n",
    "            print(\"IBM nac chosen.\")\n",
    "            \n",
    "        elif aberration_corrected == True:\n",
    "            E = 15010  # eV  Nominal Energy After Acceleration\n",
    "            E_0 = 10  # eV  Energy at the sample\n",
    "            \n",
    "            C_c = 0  # m   Second Rank Chromatic Aberration Coefficient\n",
    "            C_cc = 27.9 # m   Third Rank Chromatic Aberration Coefficient\n",
    "            C_3c = -67.4 # m   Forth Rank Chromatic Aberration Coefficient\n",
    "            \n",
    "            C_3 = 0  # m   Spherical Aberration Coefficient\n",
    "            C_5 = 92.8\n",
    "        \n",
    "            alpha_ap = 7.37e-3  # rad Aperture angle\n",
    "            alpha_ill = 0.1e-3  # rad Illumination Divergence Angle\n",
    "        \n",
    "            delta_E = 0.25  # eV  Energy Spread\n",
    "            M_L = 0.653  # Lateral Magnification\n",
    "            print(\"IBM ac chosen.\")\n",
    "            \n",
    "        lamda = 6.6261e-34 / np.sqrt(2 * 1.6022e-19 * 9.1095e-31 * E)\n",
    "        lamda_0 = 6.6261e-34 / np.sqrt(2 * 1.6022e-19 * 9.1095e-31 * E_0)\n",
    "    \n",
    "        q_ap = alpha_ap/lamda\n",
    "        q_ill = alpha_ill/lamda\n",
    "        \n",
    "    elif LEEM_type == \"Energy dependent\":\n",
    "        if aberration_corrected == False:\n",
    "            E = 15010  # eV  Nominal Energy After Acceleration\n",
    "            E_0 = 20 # eV  Energy at the sample ##########CUSTOMIZABLE INPUT##########\n",
    "            kappa = np.sqrt(E/E_0)\n",
    "            \n",
    "            C_c = -0.0121 * kappa**(1/2) + 0.0029 # m  Second Rank Chromatic Aberration Coefficient\n",
    "            C_cc = 0.5918 * kappa**(3/2) - 87.063 # m   Third Rank Chromatic Aberration Coefficient\n",
    "            C_3c = -1.2141 * kappa**(3/2) + 169.41  # m   Forth Rank Chromatic Aberration Coefficient\n",
    "            \n",
    "            C_3 = 0.0297 * kappa**(1/2) + 0.1626  # m  Third Order Spherical Aberration Coefficient\n",
    "            C_5 = 0.6223 * kappa**(3/2) - 79.305  # m  Fifth Order Spherical Aberration Coefficient\n",
    "            \n",
    "            delta_E = 0.25  # eV  Energy Spread\n",
    "            alpha_ill = 0.1e-3  # rad Illumination divergence angle\n",
    "            M_L = 0.653  # Lateral Magnification\n",
    "            \n",
    "            lamda = 6.6261e-34 / np.sqrt(2 * 1.6022e-19 * 9.1095e-31 * E) # in metre\n",
    "            alpha_ap = (lamda/C_3)**(1/4) # rad Aperture angle for optimal resolution\n",
    "            \n",
    "            print(\"Custom nac LEEM at E_0 = \" + str(E_0) + \" eV chosen.\")\n",
    "            \n",
    "        if aberration_corrected == True:\n",
    "            E = 15010  # eV  Nominal Energy After Acceleration\n",
    "            E_0 = 20 # eV  Energy at the sample\n",
    "            kappa = np.sqrt(E/E_0)\n",
    "            \n",
    "            C_c = 0 # m  Second Rank Chromatic Aberration Coefficient\n",
    "            C_cc = 0.5984 * kappa**(3/2) - 84.002 # m   Third Rank Chromatic Aberration Coefficient \n",
    "            C_3c = -1.1652 * kappa**(3/2) + 153.58  # m   Forth Rank Chromatic Aberration Coefficient  \n",
    "            \n",
    "            C_3 = 0  # m  Third Order Spherical Aberration Coefficient\n",
    "            C_5 = 0.5624 * kappa**(3/2) - 16.541  # m  Fifth Order Spherical Aberration Coefficient\n",
    "            \n",
    "            delta_E = 0.25  # eV  Energy Spread\n",
    "            alpha_ill = 0.1e-3  # rad Illumination divergence angle\n",
    "            M_L = 0.653  # Lateral Magnification\n",
    "            \n",
    "            lamda = 6.6261e-34 / np.sqrt(2 * 1.6022e-19 * 9.1095e-31 * E) # in metre\n",
    "            alpha_ap = (3/2*lamda/C_5)**(1/6) # rad Aperture angle for optimal resolution\n",
    "            \n",
    "            print(\"Custom ac LEEM at E_0 = \" + str(E_0) + \" eV chosen.\")   \n",
    "        \n",
    "        lamda_0 = 6.6261e-34 / np.sqrt(2 * 1.6022e-19 * 9.1095e-31 * E_0) # in metre\n",
    "        \n",
    "        q_ap = alpha_ap/lamda\n",
    "        q_ill = alpha_ill/lamda"
   ]
  },
  {
   "cell_type": "markdown",
   "id": "9feea987",
   "metadata": {},
   "source": [
    "The function choose_LEEM_type() provides the following LEEM options: \n",
    "1. IBM LEEM: To choose the constants from this LEEM, call it as follows: <br>\n",
    "choose_LEEM_type(\"IBM\", aberration_corrected_bool = False) for standard LEEM, or <br>\n",
    "choose_LEEM_type(\"IBM\", aberration_corrected_bool = True) for aberration corrected LEEM.\n",
    "<br>\n",
    "\n",
    "2. Customable standard LEEM: Enables users to choose different values of $E$ and $E_0$. Because of [the dependence of aberration coefficients on electron energy](https://doi.org/10.1016/j.ultramic.2011.09.011), the aberration coefficients are determined according to the data in the paper [A Contrast Transfer Function approach for image calculations in standard and aberration-corrected LEEM and PEEM](https://doi.org/10.1016/j.ultramic.2011.11.005). The contrast aperture angle is also chosen to give the best resolution. To choose the constants from this LEEM, call it as follows: <br>\n",
    "choose_LEEM_type(\"Energy dependent\", aberration_corrected_bool = False) for standard LEEM, or <br>\n",
    "choose_LEEM_type(\"Energy dependent\", aberration_corrected_bool = True) for aberration corrected LEEM."
   ]
  },
  {
   "cell_type": "code",
   "execution_count": 5,
   "id": "24266862",
   "metadata": {},
   "outputs": [
    {
     "name": "stdout",
     "output_type": "stream",
     "text": [
      "IBM nac chosen.\n"
     ]
    }
   ],
   "source": [
    "choose_LEEM_type(\"IBM\", aberration_corrected_bool = False)\n",
    "# choose_LEEM_type(\"IBM\", aberration_corrected_bool = True)\n",
    "# choose_LEEM_type(\"Energy dependent\", aberration_corrected_bool = False)\n",
    "# choose_LEEM_type(\"Energy dependent\", aberration_corrected_bool = True)"
   ]
  },
  {
   "cell_type": "markdown",
   "id": "82d3ad98",
   "metadata": {},
   "source": [
    "The next function determines the value of defocus............"
   ]
  },
  {
   "cell_type": "code",
   "execution_count": null,
   "id": "63587ece",
   "metadata": {},
   "outputs": [],
   "source": [
    "# A function to set different defocus values\n",
    "def choose_defocus(defocus_type, value = 0):\n",
    "    global delta_z\n",
    "    if defocus_type == \"In-focus\":\n",
    "        delta_z = 0\n",
    "        print(\"In-focus chosen.\")\n",
    "    elif defocus_type == \"Scherzer defocus\":\n",
    "        delta_z = np.sqrt(3/2*C_3*lamda)\n",
    "        print(\"Scherzer defocus chosen.\")\n",
    "    elif defocus_type == \"A-Phi Scherzer defocus\":\n",
    "        delta_z = np.sqrt(9/64*C_5*lamda**2)\n",
    "        print(\"A-Phi Scherzer defocus chosen.\")\n",
    "    elif defocus_type == \"custom\":\n",
    "        delta_z = value\n",
    "\n",
    "choose_defocus(\"In-focus\")"
   ]
  }
 ],
 "metadata": {
  "kernelspec": {
   "display_name": "Python 3",
   "language": "python",
   "name": "python3"
  },
  "language_info": {
   "codemirror_mode": {
    "name": "ipython",
    "version": 3
   },
   "file_extension": ".py",
   "mimetype": "text/x-python",
   "name": "python",
   "nbconvert_exporter": "python",
   "pygments_lexer": "ipython3",
   "version": "3.8.8"
  }
 },
 "nbformat": 4,
 "nbformat_minor": 5
}
